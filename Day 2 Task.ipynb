{
 "cells": [
  {
   "cell_type": "code",
   "execution_count": null,
   "id": "d99d2e0b",
   "metadata": {},
   "outputs": [],
   "source": [
    "Introduction to python programming"
   ]
  },
  {
   "cell_type": "code",
   "execution_count": 1,
   "id": "f9fb2b06",
   "metadata": {},
   "outputs": [
    {
     "name": "stdout",
     "output_type": "stream",
     "text": [
      "5\n"
     ]
    }
   ],
   "source": [
    "x=3\n",
    "y=2\n",
    "z=x+y\n",
    "print(z)"
   ]
  },
  {
   "cell_type": "raw",
   "id": "878bd623",
   "metadata": {},
   "source": [
    "Rules No : 1 No Name Spaces"
   ]
  },
  {
   "cell_type": "code",
   "execution_count": 4,
   "id": "514fea03",
   "metadata": {},
   "outputs": [
    {
     "ename": "SyntaxError",
     "evalue": "invalid syntax (2666891441.py, line 1)",
     "output_type": "error",
     "traceback": [
      "\u001b[1;36m  Cell \u001b[1;32mIn[4], line 1\u001b[1;36m\u001b[0m\n\u001b[1;33m    First name='Faiyaz'\u001b[0m\n\u001b[1;37m          ^\u001b[0m\n\u001b[1;31mSyntaxError\u001b[0m\u001b[1;31m:\u001b[0m invalid syntax\n"
     ]
    }
   ],
   "source": [
    "First name='Faiyaz'\n",
    "print(First name)"
   ]
  },
  {
   "cell_type": "code",
   "execution_count": 5,
   "id": "c6c611f9",
   "metadata": {},
   "outputs": [
    {
     "name": "stdout",
     "output_type": "stream",
     "text": [
      "Farisa\n"
     ]
    }
   ],
   "source": [
    "First_name='Farisa'\n",
    "print(First_name)"
   ]
  },
  {
   "cell_type": "code",
   "execution_count": null,
   "id": "bdd1663d",
   "metadata": {},
   "outputs": [],
   "source": [
    "Rule No: 2 Variable name should not start with number"
   ]
  },
  {
   "cell_type": "code",
   "execution_count": 8,
   "id": "4be11314",
   "metadata": {},
   "outputs": [
    {
     "ename": "SyntaxError",
     "evalue": "invalid decimal literal (1948101247.py, line 1)",
     "output_type": "error",
     "traceback": [
      "\u001b[1;36m  Cell \u001b[1;32mIn[8], line 1\u001b[1;36m\u001b[0m\n\u001b[1;33m    1name='Farisa'\u001b[0m\n\u001b[1;37m    ^\u001b[0m\n\u001b[1;31mSyntaxError\u001b[0m\u001b[1;31m:\u001b[0m invalid decimal literal\n"
     ]
    }
   ],
   "source": [
    "1name='Farisa'\n",
    "print(1name)"
   ]
  },
  {
   "cell_type": "code",
   "execution_count": 9,
   "id": "f6965ef7",
   "metadata": {},
   "outputs": [
    {
     "name": "stdout",
     "output_type": "stream",
     "text": [
      "farisa\n"
     ]
    }
   ],
   "source": [
    "name1='farisa'\n",
    "print(name1)"
   ]
  },
  {
   "cell_type": "code",
   "execution_count": null,
   "id": "fb5cde62",
   "metadata": {},
   "outputs": [],
   "source": [
    "Rule No:3 Variable should not contain any special characters\n",
    "    @ # $ % & *"
   ]
  },
  {
   "cell_type": "code",
   "execution_count": 10,
   "id": "eb84c596",
   "metadata": {},
   "outputs": [
    {
     "ename": "NameError",
     "evalue": "name 'name' is not defined",
     "output_type": "error",
     "traceback": [
      "\u001b[1;31m---------------------------------------------------------------------------\u001b[0m",
      "\u001b[1;31mNameError\u001b[0m                                 Traceback (most recent call last)",
      "Cell \u001b[1;32mIn[10], line 1\u001b[0m\n\u001b[1;32m----> 1\u001b[0m name\u001b[38;5;241m@\u001b[39m\u001b[38;5;241m=\u001b[39m\u001b[38;5;124m'\u001b[39m\u001b[38;5;124mjohn\u001b[39m\u001b[38;5;124m'\u001b[39m\n",
      "\u001b[1;31mNameError\u001b[0m: name 'name' is not defined"
     ]
    }
   ],
   "source": [
    "name@='john'"
   ]
  },
  {
   "cell_type": "code",
   "execution_count": null,
   "id": "92ad9391",
   "metadata": {},
   "outputs": [],
   "source": [
    "1. Single Quote"
   ]
  },
  {
   "cell_type": "code",
   "execution_count": 11,
   "id": "f717ffe4",
   "metadata": {},
   "outputs": [
    {
     "name": "stdout",
     "output_type": "stream",
     "text": [
      "Venkates\n"
     ]
    }
   ],
   "source": [
    "name = 'Venkates'\n",
    "print (name)"
   ]
  },
  {
   "cell_type": "code",
   "execution_count": null,
   "id": "3c51b1c0",
   "metadata": {},
   "outputs": [],
   "source": [
    "2. Double Quote"
   ]
  },
  {
   "cell_type": "code",
   "execution_count": 13,
   "id": "70d2f1d2",
   "metadata": {},
   "outputs": [
    {
     "name": "stdout",
     "output_type": "stream",
     "text": [
      "Bhargav\n"
     ]
    }
   ],
   "source": [
    "name2 = 'Bhargav'\n",
    "print (name2)"
   ]
  },
  {
   "cell_type": "code",
   "execution_count": null,
   "id": "8ede0ff0",
   "metadata": {},
   "outputs": [],
   "source": [
    "Introduction to string"
   ]
  },
  {
   "cell_type": "code",
   "execution_count": 14,
   "id": "31047e66",
   "metadata": {},
   "outputs": [
    {
     "data": {
      "text/plain": [
       "str"
      ]
     },
     "execution_count": 14,
     "metadata": {},
     "output_type": "execute_result"
    }
   ],
   "source": [
    "type (name)"
   ]
  },
  {
   "cell_type": "code",
   "execution_count": 15,
   "id": "8d9d2c41",
   "metadata": {},
   "outputs": [
    {
     "data": {
      "text/plain": [
       "str"
      ]
     },
     "execution_count": 15,
     "metadata": {},
     "output_type": "execute_result"
    }
   ],
   "source": [
    "type (name2)"
   ]
  },
  {
   "cell_type": "code",
   "execution_count": null,
   "id": "039fc2a3",
   "metadata": {},
   "outputs": [],
   "source": []
  }
 ],
 "metadata": {
  "kernelspec": {
   "display_name": "Python 3 (ipykernel)",
   "language": "python",
   "name": "python3"
  },
  "language_info": {
   "codemirror_mode": {
    "name": "ipython",
    "version": 3
   },
   "file_extension": ".py",
   "mimetype": "text/x-python",
   "name": "python",
   "nbconvert_exporter": "python",
   "pygments_lexer": "ipython3",
   "version": "3.11.4"
  }
 },
 "nbformat": 4,
 "nbformat_minor": 5
}
